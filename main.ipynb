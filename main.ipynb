{
 "cells": [
  {
   "cell_type": "markdown",
   "metadata": {},
   "source": [
    "## 1. Install and Import library\n",
    "- beautifulsoup4: used for crawl data from website\n",
    "- requests: to send request and collect data"
   ]
  },
  {
   "cell_type": "code",
   "execution_count": 12,
   "metadata": {},
   "outputs": [],
   "source": [
    "import requests as req\n",
    "from bs4 import BeautifulSoup\n",
    "import logging as lg\n",
    "import os.path as basename"
   ]
  },
  {
   "cell_type": "code",
   "execution_count": 13,
   "metadata": {},
   "outputs": [],
   "source": [
    "# config log file \n",
    "lg.getLogger().setLevel(lg.INFO)\n",
    "lg.basicConfig(filemode=\"w\", filename=\"app.log\", format='%(asctime)s - [%(levelname)s]: %(message)s')"
   ]
  },
  {
   "cell_type": "code",
   "execution_count": 17,
   "metadata": {},
   "outputs": [],
   "source": [
    "#config URL\n",
    "BASE_URL = \"https://www.bookdepository.com\"\n",
    "LINK_CATE = []\n",
    "LINK_BOOK = []"
   ]
  },
  {
   "cell_type": "code",
   "execution_count": 18,
   "metadata": {},
   "outputs": [
    {
     "name": "stdout",
     "output_type": "stream",
     "text": [
      "['/category/2/Art-Photography', '/category/213/Biography', '/category/2455/Childrens-Books', '/category/2942/Crafts-Hobbies', '/category/2616/Crime-Thriller', '/category/333/Fiction', '/category/2858/Food-Drink', '/category/2633/Graphic-Novels-Anime-Manga', '/category/2638/History-Archaeology', '/category/2819/Mind-Body-Spirit', '/category/2623/Science-Fiction-Fantasy-Horror']\n"
     ]
    }
   ],
   "source": [
    "# get data from url and parse by using BeautifulSoup\n",
    "page = req.get(BASE_URL)\n",
    "lg.info(\"Get data from api successfully!\")\n",
    "\n",
    "soup = BeautifulSoup(page.content, \"html.parser\")\n",
    "\n",
    "category = soup.find_all(\"li\", class_=\"top-category\")\n",
    "\n",
    "for cate in category:\n",
    "    link = cate.find(\"a\", href=True)\n",
    "    LINK_CATE.append(link['href'])\n",
    "\n",
    "lg.info(f'Total have {len(LINK_CATE)} categories')\n"
   ]
  },
  {
   "cell_type": "code",
   "execution_count": null,
   "metadata": {},
   "outputs": [],
   "source": [
    "# get link of each book\n",
    "\n",
    "for link_cate in LINK_CATE:\n",
    "    url = BASE_URL + link_cate\n",
    "    page_cate = req.get(url) \n",
    "    soup_cate = BeautifulSoup(page_cate.content, \"html.parser\")\n",
    "    all_image = soup_cate.find_all(\"div\", class_=\"item-img\")\n",
    "    for img in all_image:\n",
    "        link_to_book = img.find(\"a\", href=True) \n",
    "        if link_to_book['href'] != None:\n",
    "            LINK_BOOK.append(link_to_book['href'])\n",
    "\n",
    "lg.info(\"Total have {0} books\".format(len(LINK_BOOK)))\n",
    "            "
   ]
  },
  {
   "cell_type": "code",
   "execution_count": 42,
   "metadata": {},
   "outputs": [
    {
     "name": "stdout",
     "output_type": "stream",
     "text": [
      "Threads of Life : A History of the World Through the Eye of a Needle of \n",
      "                                    Clare Hunter: $14.89 - 320 pages\n",
      " - \n",
      "                                128\n",
      "                                    x 196\n",
      "                                    x 24mm\n",
      "                                \n",
      "                                    | 225g\n",
      "                                 -  \n",
      "                                London, United Kingdom -  \n",
      "                                English - \n",
      "                                1,780 - 23 Jun 2020 - \n",
      "                                        Hodder & Stoughton \n"
     ]
    }
   ],
   "source": [
    "# get information of each book\n",
    "\n",
    "# for book_url in LINK_BOOK:\n",
    "# url = BASE_URL + book_url\n",
    "book_page = req.get('https://www.bookdepository.com/Threads-Life-Clare-Hunter/9781473687936?ref=grid-view')\n",
    "soup_book = BeautifulSoup(book_page.content, \"html.parser\")\n",
    "info = soup_book.find('div', class_='item-info')\n",
    "title = info.find('h1', class_=None).text\n",
    "author = info.find(\"span\", itemprop=\"name\").text\n",
    "price = soup_book.find(\n",
    "    \"div\", class_='item-tools').find('span', class_='sale-price').text\n",
    "details = soup_book.find_all('ul', class_='biblio-info')\n",
    "_details = next(iter(details))\n",
    "li_tag = _details.find_all(\"li\", class_=None)\n",
    "number_of_page = li_tag[0].find('span', itemprop=\"numberOfPages\").text\n",
    "dimensions = li_tag[1].find('span', class_=None).text\n",
    "publish_date = li_tag[2].find('span', itemprop='datePublished').text\n",
    "publisher = li_tag[3].find('span', itemprop = 'name').text\n",
    "country = li_tag[5].find('span', class_=None).text\n",
    "language = li_tag[6].find('span', class_=None).text\n",
    "rank = li_tag[8].find('span', class_=None).text\n",
    "\n",
    "\n",
    "\n",
    "\n",
    "\n"
   ]
  }
 ],
 "metadata": {
  "kernelspec": {
   "display_name": "Python 3.10.6 64-bit",
   "language": "python",
   "name": "python3"
  },
  "language_info": {
   "codemirror_mode": {
    "name": "ipython",
    "version": 3
   },
   "file_extension": ".py",
   "mimetype": "text/x-python",
   "name": "python",
   "nbconvert_exporter": "python",
   "pygments_lexer": "ipython3",
   "version": "3.10.6"
  },
  "orig_nbformat": 4,
  "vscode": {
   "interpreter": {
    "hash": "369f2c481f4da34e4445cda3fffd2e751bd1c4d706f27375911949ba6bb62e1c"
   }
  }
 },
 "nbformat": 4,
 "nbformat_minor": 2
}
