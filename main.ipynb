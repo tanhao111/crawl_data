{
 "cells": [
  {
   "cell_type": "markdown",
   "metadata": {},
   "source": [
    "## 1. Install and Import library\n",
    "- beautifulsoup4: used for crawl data from website\n",
    "- requests: to send request and collect data"
   ]
  },
  {
   "cell_type": "code",
   "execution_count": 3,
   "metadata": {},
   "outputs": [],
   "source": [
    "import requests as req\n",
    "from bs4 import BeautifulSoup\n",
    "import logging as lg\n",
    "import os\n",
    "import csv\n"
   ]
  },
  {
   "cell_type": "code",
   "execution_count": 4,
   "metadata": {},
   "outputs": [],
   "source": [
    "# config log file \n",
    "lg.getLogger().setLevel(lg.INFO)\n",
    "lg.basicConfig(filemode=\"w\", filename=\"app.log\", format='%(asctime)s - [%(levelname)s]: %(message)s')"
   ]
  },
  {
   "cell_type": "code",
   "execution_count": 13,
   "metadata": {},
   "outputs": [],
   "source": [
    "#config URL\n",
    "BASE_URL = \"https://www.bookdepository.com\"\n",
    "DIR = \"./data/img/\"\n",
    "LINK_CATE = []\n",
    "books = []\n"
   ]
  },
  {
   "cell_type": "code",
   "execution_count": 14,
   "metadata": {},
   "outputs": [],
   "source": [
    "# get data from url and parse by using BeautifulSoup\n",
    "page = req.get(BASE_URL)\n",
    "lg.info(\"Get data from api successfully!\")\n",
    "\n",
    "soup = BeautifulSoup(page.content, \"html.parser\")\n",
    "\n",
    "category = soup.find_all(\"li\", class_=\"top-category\")\n",
    "\n",
    "for cate in category:\n",
    "    link = cate.find(\"a\", href=True)\n",
    "    LINK_CATE.append(link['href'])\n",
    "    lg.info(\"Add {0}\".format(link['href'].split(\"/\")[-1]))\n",
    "\n",
    "lg.info(f'Total have {len(LINK_CATE)} categories')\n"
   ]
  },
  {
   "cell_type": "code",
   "execution_count": 8,
   "metadata": {},
   "outputs": [],
   "source": [
    "class Book:\n",
    "    def __init__(self, title, author, price, number_of_page, publish_date, publisher, country, language, rank, img_title, category):\n",
    "        self.title = title\n",
    "        self.author = author\n",
    "        self.price = price\n",
    "        self.number_of_page = number_of_page\n",
    "        self.publish_date = publish_date\n",
    "        self.publisher = publisher\n",
    "        self.country = country\n",
    "        self.language = language\n",
    "        self.rank = rank\n",
    "        self.img_title = img_title\n",
    "        self.category = category\n",
    "\n",
    "    def __iter__(self):\n",
    "        return iter([self.title, self.author, self.price, self.number_of_page,  self.publish_date, self.publisher, self.country, self.language, self.rank, self.img_title, self.category])\n",
    "\n",
    "    def to_string(self):\n",
    "        return self.title + \" - \" + self.author + \" - \" + self.price + \" - \" + self.number_of_page + \" - \" + self.publish_date + \" - \" + self.publisher + \" - \" + self.country + \" - \" + self.language + \" - \" + self.rank + \" - \" + self.img_title + \" - \" + self.category\n"
   ]
  },
  {
   "cell_type": "code",
   "execution_count": 15,
   "metadata": {},
   "outputs": [
    {
     "data": {
      "text/plain": [
       "['/category/2/Art-Photography',\n",
       " '/category/213/Biography',\n",
       " '/category/2455/Childrens-Books',\n",
       " '/category/2942/Crafts-Hobbies',\n",
       " '/category/2616/Crime-Thriller',\n",
       " '/category/333/Fiction',\n",
       " '/category/2858/Food-Drink',\n",
       " '/category/2633/Graphic-Novels-Anime-Manga',\n",
       " '/category/2638/History-Archaeology',\n",
       " '/category/2819/Mind-Body-Spirit',\n",
       " '/category/2623/Science-Fiction-Fantasy-Horror']"
      ]
     },
     "execution_count": 15,
     "metadata": {},
     "output_type": "execute_result"
    }
   ],
   "source": [
    "LINK_CATE"
   ]
  },
  {
   "cell_type": "code",
   "execution_count": 16,
   "metadata": {},
   "outputs": [],
   "source": [
    "# get link of each book\n",
    "\n",
    "def get_text_from_html(content):\n",
    "    if content is None:\n",
    "        return \"NONE\"\n",
    "    return content.text.strip()\n",
    "\n",
    "\n",
    "for link_cate in LINK_CATE:\n",
    "    count = 1\n",
    "    url = BASE_URL + link_cate\n",
    "    page_cate = req.get(url)\n",
    "    soup_cate = BeautifulSoup(page_cate.content, \"html.parser\")\n",
    "    all_image = soup_cate.find_all(\"div\", class_=\"item-img\")\n",
    "    for img in all_image:\n",
    "        link_to_book = img.find(\"a\", href=True)\n",
    "        if link_to_book['href'] != None:\n",
    "            url = BASE_URL + link_to_book['href']\n",
    "            book_page = req.get(url)\n",
    "            soup_book = BeautifulSoup(book_page.content, \"html.parser\")\n",
    "            # get info about book\n",
    "            info = soup_book.find('div', class_='item-info')\n",
    "            if info is not None:\n",
    "                title = get_text_from_html(info.find('h1', class_=None))\n",
    "                author = get_text_from_html(info.find(\"span\", itemprop=\"name\"))\n",
    "                price = get_text_from_html(soup_book.find(\n",
    "                    \"div\", class_='item-tools').find('span', class_='sale-price'))\n",
    "                # get detail of book\n",
    "                details = soup_book.find_all('ul', class_='biblio-info')\n",
    "                _details = next(iter(details))\n",
    "                li_tag = _details.find_all(\"li\", class_=None)\n",
    "                number_of_page = get_text_from_html(li_tag[0].find(\n",
    "                    'span', itemprop=\"numberOfPages\")) if len(li_tag) > 0 else \"0\"\n",
    "                publish_date = get_text_from_html(li_tag[2].find(\n",
    "                    'span', itemprop='datePublished')) if len(li_tag) > 2 else \"0\"\n",
    "                publisher = get_text_from_html(\n",
    "                    li_tag[3].find('span', itemprop='name'))\n",
    "                country = get_text_from_html(li_tag[5].find(\n",
    "                    'span', class_=None))if len(li_tag) > 5 else \"NONE\"\n",
    "                language = get_text_from_html(li_tag[6].find(\n",
    "                    'span', class_=None)) if len(li_tag) > 6 else \"NONE\"\n",
    "                rank = get_text_from_html(li_tag[8].find('span', class_=None)) if len(li_tag) > 8 else \"0\"\n",
    "                # get image of book\n",
    "                img = soup_book.find('img', class_='book-img')\n",
    "                temp = \"{0}.jpg\".format(str(count))\n",
    "                cate = link_cate.split(\"/\")[-1] + \"/\"\n",
    "                img_title = os.path.join(DIR, cate,temp)\n",
    "                with open(img_title, 'wb') as f:\n",
    "                    f.write(req.get(img['src']).content)\n",
    "                newBook = Book(title, author, price, number_of_page, publish_date,\n",
    "                            publisher, country, language, rank, temp, link_cate.split(\"/\")[-1].lower().replace(\"-\", '_'))\n",
    "                books.append(newBook)\n",
    "                lg.info(\"Add {0} {1}\".format(count,newBook.to_string()))\n",
    "                count = count + 1\n"
   ]
  },
  {
   "cell_type": "code",
   "execution_count": 18,
   "metadata": {},
   "outputs": [],
   "source": [
    "# write book into file\n",
    "headers = ['title', 'author', 'price', 'number_of_page', 'dimensions',\n",
    "           'publish_date', 'publisher', 'country', 'language', 'rank', 'img_title', 'category']\n",
    "\n",
    "with open(\"./data/results.csv\", 'w', encoding='UTF-8') as stream:\n",
    "    writer = csv.writer(stream)\n",
    "    writer.writerow(headers)\n",
    "    writer.writerows(books)"
   ]
  },
  {
   "cell_type": "code",
   "execution_count": 19,
   "metadata": {},
   "outputs": [
    {
     "name": "stdout",
     "output_type": "stream",
     "text": [
      "2139\n"
     ]
    }
   ],
   "source": [
    "print(len(books))"
   ]
  }
 ],
 "metadata": {
  "kernelspec": {
   "display_name": "Python 3.10.6 64-bit",
   "language": "python",
   "name": "python3"
  },
  "language_info": {
   "codemirror_mode": {
    "name": "ipython",
    "version": 3
   },
   "file_extension": ".py",
   "mimetype": "text/x-python",
   "name": "python",
   "nbconvert_exporter": "python",
   "pygments_lexer": "ipython3",
   "version": "3.10.6"
  },
  "orig_nbformat": 4,
  "vscode": {
   "interpreter": {
    "hash": "69f8cb0abf1fbd439d79f330a8a83a2002b03278b781a802579632135154bb93"
   }
  }
 },
 "nbformat": 4,
 "nbformat_minor": 2
}
